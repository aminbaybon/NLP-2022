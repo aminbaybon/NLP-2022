{
  "nbformat": 4,
  "nbformat_minor": 0,
  "metadata": {
    "colab": {
      "provenance": [],
      "collapsed_sections": []
    },
    "kernelspec": {
      "name": "python3",
      "display_name": "Python 3"
    },
    "language_info": {
      "name": "python"
    }
  },
  "cells": [
    {
      "cell_type": "code",
      "execution_count": 1,
      "metadata": {
        "id": "KUs-t5wWtogC"
      },
      "outputs": [],
      "source": [
        "import re"
      ]
    },
    {
      "cell_type": "code",
      "source": [
        "def validate_email(email):\n",
        "  regex = re.compile(r'^[a-zA-Z1-9\\.\\_]+@[a-zA-Z1-9]+\\.[a-zA-Z]{3}$')\n",
        "  if re.match(regex,email):\n",
        "    Res = True\n",
        "  else:\n",
        "    Res = False\n",
        "  return Res\n",
        "\n",
        "print(validate_email('username@domain.tld'))"
      ],
      "metadata": {
        "colab": {
          "base_uri": "https://localhost:8080/"
        },
        "id": "GGgUG2KHtzr-",
        "outputId": "133c4f2f-e336-4693-b06d-20b756c84ca4"
      },
      "execution_count": 4,
      "outputs": [
        {
          "output_type": "stream",
          "name": "stdout",
          "text": [
            "True\n"
          ]
        }
      ]
    },
    {
      "cell_type": "code",
      "source": [
        "def validate_phone(number):\n",
        "  regex = re.compile(r'^09[0-9]{9}$|^\\+989[0-9]{10}$|^0098[0-9]{10}$')\n",
        "  if re.match(regex, number):\n",
        "    Res = True\n",
        "  else:\n",
        "    Res = False\n",
        "  return Res"
      ],
      "metadata": {
        "id": "V6kOgL7tupv7"
      },
      "execution_count": 5,
      "outputs": []
    },
    {
      "cell_type": "code",
      "source": [],
      "metadata": {
        "id": "03oksMCVwZcr"
      },
      "execution_count": null,
      "outputs": []
    }
  ]
}
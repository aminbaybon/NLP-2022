{
  "nbformat": 4,
  "nbformat_minor": 0,
  "metadata": {
    "colab": {
      "provenance": []
    },
    "kernelspec": {
      "name": "python3",
      "display_name": "Python 3"
    },
    "language_info": {
      "name": "python"
    }
  },
  "cells": [
    {
      "cell_type": "code",
      "execution_count": 1,
      "metadata": {
        "colab": {
          "base_uri": "https://localhost:8080/"
        },
        "id": "3rfWJGHopJxt",
        "outputId": "8a100a92-a0ed-4822-e916-5c36b7cb818f"
      },
      "outputs": [
        {
          "output_type": "stream",
          "name": "stderr",
          "text": [
            "[nltk_data] Downloading package stopwords to /root/nltk_data...\n",
            "[nltk_data]   Unzipping corpora/stopwords.zip.\n",
            "[nltk_data] Downloading package punkt to /root/nltk_data...\n",
            "[nltk_data]   Unzipping tokenizers/punkt.zip.\n",
            "[nltk_data] Downloading package omw-1.4 to /root/nltk_data...\n",
            "[nltk_data] Downloading package wordnet to /root/nltk_data...\n"
          ]
        }
      ],
      "source": [
        "# importing the libraries\n",
        "import pandas as pd\n",
        "from sklearn.feature_extraction.text import TfidfVectorizer\n",
        "import re\n",
        "import numpy as np\n",
        "import string\n",
        "import nltk\n",
        "from nltk.corpus import stopwords\n",
        "nltk.download('stopwords')\n",
        "nltk.download('punkt')\n",
        "nltk.download('omw-1.4')\n",
        "nltk.download('wordnet')\n",
        "import string\n",
        "from nltk.stem import WordNetLemmatizer\n",
        "import collections\n",
        "from collections import Counter\n",
        "from sklearn.model_selection import train_test_split as tts"
      ]
    },
    {
      "cell_type": "code",
      "source": [
        "train_data = {\n",
        "    'mail':[\n",
        "        'congrats you have achieved certificate',\n",
        "        'send us your google password',\n",
        "        'review your google password',\n",
        "        'send us your review',\n",
        "        'congrats you won lottery',\n",
        "        'review our website',\n",
        "        'please update your profile'\n",
        "    ],\n",
        "\n",
        "    'label':[\n",
        "        'non-spam',\n",
        "        'spam',\n",
        "        'non-spam',\n",
        "        'non-spam',\n",
        "        'spam',\n",
        "        'spam',\n",
        "        'non-spam',\n",
        "    ]\n",
        "    \n",
        "}\n",
        "train_data=pd.DataFrame(train_data)\n",
        "\n",
        "\n",
        "test_data = [\n",
        "    'review our changes send us your certificate',\n",
        "    'congrats your profile achieved our website',\n",
        "]\n",
        "\n",
        "train_data.head()"
      ],
      "metadata": {
        "colab": {
          "base_uri": "https://localhost:8080/",
          "height": 206
        },
        "id": "sT4ezVNipQA7",
        "outputId": "bba36c95-33e4-466d-ddc2-9172deb0d298"
      },
      "execution_count": 2,
      "outputs": [
        {
          "output_type": "execute_result",
          "data": {
            "text/plain": [
              "                                     mail     label\n",
              "0  congrats you have achieved certificate  non-spam\n",
              "1            send us your google password      spam\n",
              "2             review your google password  non-spam\n",
              "3                     send us your review  non-spam\n",
              "4                congrats you won lottery      spam"
            ],
            "text/html": [
              "\n",
              "  <div id=\"df-3551c92f-1e0b-449d-9fd4-05e49ec1b683\">\n",
              "    <div class=\"colab-df-container\">\n",
              "      <div>\n",
              "<style scoped>\n",
              "    .dataframe tbody tr th:only-of-type {\n",
              "        vertical-align: middle;\n",
              "    }\n",
              "\n",
              "    .dataframe tbody tr th {\n",
              "        vertical-align: top;\n",
              "    }\n",
              "\n",
              "    .dataframe thead th {\n",
              "        text-align: right;\n",
              "    }\n",
              "</style>\n",
              "<table border=\"1\" class=\"dataframe\">\n",
              "  <thead>\n",
              "    <tr style=\"text-align: right;\">\n",
              "      <th></th>\n",
              "      <th>mail</th>\n",
              "      <th>label</th>\n",
              "    </tr>\n",
              "  </thead>\n",
              "  <tbody>\n",
              "    <tr>\n",
              "      <th>0</th>\n",
              "      <td>congrats you have achieved certificate</td>\n",
              "      <td>non-spam</td>\n",
              "    </tr>\n",
              "    <tr>\n",
              "      <th>1</th>\n",
              "      <td>send us your google password</td>\n",
              "      <td>spam</td>\n",
              "    </tr>\n",
              "    <tr>\n",
              "      <th>2</th>\n",
              "      <td>review your google password</td>\n",
              "      <td>non-spam</td>\n",
              "    </tr>\n",
              "    <tr>\n",
              "      <th>3</th>\n",
              "      <td>send us your review</td>\n",
              "      <td>non-spam</td>\n",
              "    </tr>\n",
              "    <tr>\n",
              "      <th>4</th>\n",
              "      <td>congrats you won lottery</td>\n",
              "      <td>spam</td>\n",
              "    </tr>\n",
              "  </tbody>\n",
              "</table>\n",
              "</div>\n",
              "      <button class=\"colab-df-convert\" onclick=\"convertToInteractive('df-3551c92f-1e0b-449d-9fd4-05e49ec1b683')\"\n",
              "              title=\"Convert this dataframe to an interactive table.\"\n",
              "              style=\"display:none;\">\n",
              "        \n",
              "  <svg xmlns=\"http://www.w3.org/2000/svg\" height=\"24px\"viewBox=\"0 0 24 24\"\n",
              "       width=\"24px\">\n",
              "    <path d=\"M0 0h24v24H0V0z\" fill=\"none\"/>\n",
              "    <path d=\"M18.56 5.44l.94 2.06.94-2.06 2.06-.94-2.06-.94-.94-2.06-.94 2.06-2.06.94zm-11 1L8.5 8.5l.94-2.06 2.06-.94-2.06-.94L8.5 2.5l-.94 2.06-2.06.94zm10 10l.94 2.06.94-2.06 2.06-.94-2.06-.94-.94-2.06-.94 2.06-2.06.94z\"/><path d=\"M17.41 7.96l-1.37-1.37c-.4-.4-.92-.59-1.43-.59-.52 0-1.04.2-1.43.59L10.3 9.45l-7.72 7.72c-.78.78-.78 2.05 0 2.83L4 21.41c.39.39.9.59 1.41.59.51 0 1.02-.2 1.41-.59l7.78-7.78 2.81-2.81c.8-.78.8-2.07 0-2.86zM5.41 20L4 18.59l7.72-7.72 1.47 1.35L5.41 20z\"/>\n",
              "  </svg>\n",
              "      </button>\n",
              "      \n",
              "  <style>\n",
              "    .colab-df-container {\n",
              "      display:flex;\n",
              "      flex-wrap:wrap;\n",
              "      gap: 12px;\n",
              "    }\n",
              "\n",
              "    .colab-df-convert {\n",
              "      background-color: #E8F0FE;\n",
              "      border: none;\n",
              "      border-radius: 50%;\n",
              "      cursor: pointer;\n",
              "      display: none;\n",
              "      fill: #1967D2;\n",
              "      height: 32px;\n",
              "      padding: 0 0 0 0;\n",
              "      width: 32px;\n",
              "    }\n",
              "\n",
              "    .colab-df-convert:hover {\n",
              "      background-color: #E2EBFA;\n",
              "      box-shadow: 0px 1px 2px rgba(60, 64, 67, 0.3), 0px 1px 3px 1px rgba(60, 64, 67, 0.15);\n",
              "      fill: #174EA6;\n",
              "    }\n",
              "\n",
              "    [theme=dark] .colab-df-convert {\n",
              "      background-color: #3B4455;\n",
              "      fill: #D2E3FC;\n",
              "    }\n",
              "\n",
              "    [theme=dark] .colab-df-convert:hover {\n",
              "      background-color: #434B5C;\n",
              "      box-shadow: 0px 1px 3px 1px rgba(0, 0, 0, 0.15);\n",
              "      filter: drop-shadow(0px 1px 2px rgba(0, 0, 0, 0.3));\n",
              "      fill: #FFFFFF;\n",
              "    }\n",
              "  </style>\n",
              "\n",
              "      <script>\n",
              "        const buttonEl =\n",
              "          document.querySelector('#df-3551c92f-1e0b-449d-9fd4-05e49ec1b683 button.colab-df-convert');\n",
              "        buttonEl.style.display =\n",
              "          google.colab.kernel.accessAllowed ? 'block' : 'none';\n",
              "\n",
              "        async function convertToInteractive(key) {\n",
              "          const element = document.querySelector('#df-3551c92f-1e0b-449d-9fd4-05e49ec1b683');\n",
              "          const dataTable =\n",
              "            await google.colab.kernel.invokeFunction('convertToInteractive',\n",
              "                                                     [key], {});\n",
              "          if (!dataTable) return;\n",
              "\n",
              "          const docLinkHtml = 'Like what you see? Visit the ' +\n",
              "            '<a target=\"_blank\" href=https://colab.research.google.com/notebooks/data_table.ipynb>data table notebook</a>'\n",
              "            + ' to learn more about interactive tables.';\n",
              "          element.innerHTML = '';\n",
              "          dataTable['output_type'] = 'display_data';\n",
              "          await google.colab.output.renderOutput(dataTable, element);\n",
              "          const docLink = document.createElement('div');\n",
              "          docLink.innerHTML = docLinkHtml;\n",
              "          element.appendChild(docLink);\n",
              "        }\n",
              "      </script>\n",
              "    </div>\n",
              "  </div>\n",
              "  "
            ]
          },
          "metadata": {},
          "execution_count": 2
        }
      ]
    },
    {
      "cell_type": "code",
      "source": [
        "######## Your Code Here ########\n",
        "def preprocessing(data):\n",
        "    lemmatizer = WordNetLemmatizer()\n",
        "    \n",
        "    # Lowercase\n",
        "    data = data.lower()\n",
        "\n",
        "    # Removing HTML tags\n",
        "    data = re.sub(r\"<.*?>\", \" \", data)\n",
        "\n",
        "    # Removing hyperlinks\n",
        "    data = re.sub(r\"https?://\\S+\", \"\", data)\n",
        "\n",
        "    # Removing numbers\n",
        "    data = re.sub(r\"\\b[0-9]+\\b\\s*\", \"\", data)\n",
        "\n",
        "    # Removing punctuations\n",
        "    data = re.sub(f\"[{re.escape(string.punctuation)}]\", \"\", data)\n",
        "\n",
        "    # Spliting sentence to words\n",
        "    words = data.split()\n",
        "\n",
        "    # Applying word lemmatization\n",
        "    words = [lemmatizer.lemmatize(word) for word in words]\n",
        "\n",
        "    # Removing stopwords\n",
        "    words = [word for word in words if word not in stopwords.words('english') and '_' not in word]\n",
        "\n",
        "    return words\n"
      ],
      "metadata": {
        "id": "qHBus9_GpTZU"
      },
      "execution_count": 3,
      "outputs": []
    },
    {
      "cell_type": "code",
      "source": [
        "train_data.mail = train_data.mail.apply(preprocessing)\n",
        "test_data = [preprocessing(data) for data in test_data]"
      ],
      "metadata": {
        "id": "_6JxpKPHpUvv"
      },
      "execution_count": 4,
      "outputs": []
    },
    {
      "cell_type": "code",
      "source": [
        "######## Your Code Here ########\n",
        "def naive_bayes_training(data, classes):\n",
        "    probability = dict()\n",
        "    count = dict()\n",
        "\n",
        "    for c in classes:\n",
        "        # find out probability of each class\n",
        "        probability[c] = dict()\n",
        "        probability[c]['count'] = len(data[data['label']==c])\n",
        "        probability[c]['probability'] = probability[c]['count']/len(data)\n",
        "\n",
        "        # prepare data for counting occurrence of each word\n",
        "        mails = data[data['label'] == c]['mail'].to_list()\n",
        "        tokens = list()\n",
        "        for mail in mails:\n",
        "            tokens.extend(mail)\n",
        "\n",
        "        # find out number of occurrence of each word in a class\n",
        "        count[c]= dict()\n",
        "        count[c]['token_count'] =collections.Counter(tokens)\n",
        "        count[c]['len'] = len(tokens)\n",
        "\n",
        "        # find out number of unique tokens in our dataset\n",
        "    v = len(set(list(count['spam']['token_count'].keys())+ list(count['non-spam']['token_count'].keys())))\n",
        "\n",
        "        # using naive bayes with add-1 smoothing rule for calculating the probability P(word|c)\n",
        "    for class_name in classes:\n",
        "        for word, c in count[class_name]['token_count'].items():\n",
        "            probability[class_name][word] = (c+1)/ (v + count[class_name]['len'])\n",
        "    \n",
        "    return probability, count, v "
      ],
      "metadata": {
        "id": "d_xlUnKGpVkt"
      },
      "execution_count": 5,
      "outputs": []
    },
    {
      "cell_type": "code",
      "source": [
        "classes = ['spam', 'non-spam']\n",
        "model, count, v = naive_bayes_training(train_data, classes)"
      ],
      "metadata": {
        "id": "eqcyPzpxpcNF"
      },
      "execution_count": 6,
      "outputs": []
    },
    {
      "cell_type": "code",
      "source": [
        "######## Your Code Here ########\n",
        "def naive_bayes_testing(model,count, v, X_test, classes):\n",
        "    y_pred = list()\n",
        "    for sample in X_test:\n",
        "        p = dict()\n",
        "        for class_name in classes:\n",
        "            p[class_name] = np.log(model[class_name]['probability'])\n",
        "            for word in sample:\n",
        "                if word in model[class_name]:\n",
        "                    p[class_name] += np.log(model[class_name][word])\n",
        "                else:\n",
        "                    p[class_name] += np.log(1 / (v + count[class_name]['len']))\n",
        "\n",
        "        y_pred.append(max(p, key=p.get))\n",
        "    return y_pred"
      ],
      "metadata": {
        "id": "gLxfokDspdMt"
      },
      "execution_count": 7,
      "outputs": []
    },
    {
      "cell_type": "code",
      "source": [
        "y_pred = naive_bayes_testing(model, count, v, test_data, classes)\n",
        "y_pred"
      ],
      "metadata": {
        "colab": {
          "base_uri": "https://localhost:8080/"
        },
        "id": "eNUSmzvBpeEe",
        "outputId": "b4eac8cf-7107-415e-8ddd-dc7de4a65ead"
      },
      "execution_count": 8,
      "outputs": [
        {
          "output_type": "execute_result",
          "data": {
            "text/plain": [
              "['non-spam', 'non-spam']"
            ]
          },
          "metadata": {},
          "execution_count": 8
        }
      ]
    }
  ]
}
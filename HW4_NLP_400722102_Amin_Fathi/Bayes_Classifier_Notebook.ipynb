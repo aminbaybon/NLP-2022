{
  "cells": [
    {
      "cell_type": "markdown",
      "metadata": {
        "id": "h3v9p59dC-5y"
      },
      "source": [
        "# Intro\n",
        "In the Name of Allah\n",
        "\n",
        "Sentiment analysis is a technique through which you can analyze a piece of text to determine the sentiment behind it. In this notebook, we're going to train a Naïve Bayes Classifier for the task of sentiment analysis on Imdb movie reviews dataset.\n",
        "\n",
        "**Please pay attention to these notes:**\n",
        "\n",
        "<br/>\n",
        "\n",
        "- **Assignment Due:** 1401/09/20 23:59\n",
        "- Write your code in the cells denoted by:\n",
        "```\n",
        "######## Your Code Here ########\n",
        "```\n",
        "- You can add more cells if necessary\n",
        "- Finding any sort of copying will zero down your grade.\n",
        "- When your solution is ready to submit, don't forget to set the name of this notebook like  \"Name_StudentID.ipynb\".\n",
        "- If you have any questions about this assignment, feel free to drop us a line. You can also ask your questions on the telegram group.\n",
        "- You must run this notebook on Google Colab platform.\n",
        "\n",
        "<br/>\n",
        "\n"
      ]
    },
    {
      "cell_type": "markdown",
      "metadata": {
        "id": "iryuq7HoLy3j"
      },
      "source": [
        "# Libraries"
      ]
    },
    {
      "cell_type": "code",
      "execution_count": 1,
      "metadata": {
        "id": "W-R7b4iAuKnP",
        "colab": {
          "base_uri": "https://localhost:8080/"
        },
        "outputId": "006f09c6-6417-4366-9033-cc144a877876"
      },
      "outputs": [
        {
          "output_type": "stream",
          "name": "stderr",
          "text": [
            "[nltk_data] Downloading package stopwords to /root/nltk_data...\n",
            "[nltk_data]   Unzipping corpora/stopwords.zip.\n",
            "[nltk_data] Downloading package punkt to /root/nltk_data...\n",
            "[nltk_data]   Unzipping tokenizers/punkt.zip.\n",
            "[nltk_data] Downloading package omw-1.4 to /root/nltk_data...\n",
            "[nltk_data] Downloading package wordnet to /root/nltk_data...\n"
          ]
        }
      ],
      "source": [
        "# importing the libraries\n",
        "import pandas as pd\n",
        "from sklearn.feature_extraction.text import TfidfVectorizer\n",
        "import re\n",
        "import numpy as np\n",
        "import string\n",
        "import nltk\n",
        "from nltk.corpus import stopwords\n",
        "nltk.download('stopwords')\n",
        "nltk.download('punkt')\n",
        "nltk.download('omw-1.4')\n",
        "nltk.download('wordnet')\n",
        "import string\n",
        "from nltk.stem import WordNetLemmatizer\n",
        "import collections\n",
        "from collections import Counter\n",
        "from sklearn.model_selection import train_test_split as tts"
      ]
    },
    {
      "cell_type": "code",
      "execution_count": 2,
      "metadata": {
        "id": "Cj9uxuvswOpA",
        "colab": {
          "base_uri": "https://localhost:8080/"
        },
        "outputId": "b157bad1-aa72-4d71-82ca-e1aea0772b55"
      },
      "outputs": [
        {
          "output_type": "stream",
          "name": "stdout",
          "text": [
            "--2022-12-13 22:55:51--  https://raw.githubusercontent.com/Ankit152/IMDB-sentiment-analysis/master/IMDB-Dataset.csv\n",
            "Resolving raw.githubusercontent.com (raw.githubusercontent.com)... 185.199.108.133, 185.199.109.133, 185.199.110.133, ...\n",
            "Connecting to raw.githubusercontent.com (raw.githubusercontent.com)|185.199.108.133|:443... connected.\n",
            "HTTP request sent, awaiting response... 200 OK\n",
            "Length: 66212309 (63M) [text/plain]\n",
            "Saving to: ‘IMDB-Dataset.csv’\n",
            "\n",
            "IMDB-Dataset.csv    100%[===================>]  63.14M  94.4MB/s    in 0.7s    \n",
            "\n",
            "2022-12-13 22:55:52 (94.4 MB/s) - ‘IMDB-Dataset.csv’ saved [66212309/66212309]\n",
            "\n"
          ]
        }
      ],
      "source": [
        "!wget https://raw.githubusercontent.com/Ankit152/IMDB-sentiment-analysis/master/IMDB-Dataset.csv"
      ]
    },
    {
      "cell_type": "markdown",
      "metadata": {
        "id": "cqW0otKAQWB9"
      },
      "source": [
        "# Load data"
      ]
    },
    {
      "cell_type": "code",
      "execution_count": 3,
      "metadata": {
        "id": "v4ujxrR8QkeU",
        "colab": {
          "base_uri": "https://localhost:8080/",
          "height": 206
        },
        "outputId": "f51261c2-637a-4ffc-8f02-023132d2e447"
      },
      "outputs": [
        {
          "output_type": "execute_result",
          "data": {
            "text/plain": [
              "                                              review sentiment\n",
              "0  One of the other reviewers has mentioned that ...  positive\n",
              "1  A wonderful little production. <br /><br />The...  positive\n",
              "2  I thought this was a wonderful way to spend ti...  positive\n",
              "3  Basically there's a family where a little boy ...  negative\n",
              "4  Petter Mattei's \"Love in the Time of Money\" is...  positive"
            ],
            "text/html": [
              "\n",
              "  <div id=\"df-cb29f02c-3fce-4d5a-978d-365ff76e8bb1\">\n",
              "    <div class=\"colab-df-container\">\n",
              "      <div>\n",
              "<style scoped>\n",
              "    .dataframe tbody tr th:only-of-type {\n",
              "        vertical-align: middle;\n",
              "    }\n",
              "\n",
              "    .dataframe tbody tr th {\n",
              "        vertical-align: top;\n",
              "    }\n",
              "\n",
              "    .dataframe thead th {\n",
              "        text-align: right;\n",
              "    }\n",
              "</style>\n",
              "<table border=\"1\" class=\"dataframe\">\n",
              "  <thead>\n",
              "    <tr style=\"text-align: right;\">\n",
              "      <th></th>\n",
              "      <th>review</th>\n",
              "      <th>sentiment</th>\n",
              "    </tr>\n",
              "  </thead>\n",
              "  <tbody>\n",
              "    <tr>\n",
              "      <th>0</th>\n",
              "      <td>One of the other reviewers has mentioned that ...</td>\n",
              "      <td>positive</td>\n",
              "    </tr>\n",
              "    <tr>\n",
              "      <th>1</th>\n",
              "      <td>A wonderful little production. &lt;br /&gt;&lt;br /&gt;The...</td>\n",
              "      <td>positive</td>\n",
              "    </tr>\n",
              "    <tr>\n",
              "      <th>2</th>\n",
              "      <td>I thought this was a wonderful way to spend ti...</td>\n",
              "      <td>positive</td>\n",
              "    </tr>\n",
              "    <tr>\n",
              "      <th>3</th>\n",
              "      <td>Basically there's a family where a little boy ...</td>\n",
              "      <td>negative</td>\n",
              "    </tr>\n",
              "    <tr>\n",
              "      <th>4</th>\n",
              "      <td>Petter Mattei's \"Love in the Time of Money\" is...</td>\n",
              "      <td>positive</td>\n",
              "    </tr>\n",
              "  </tbody>\n",
              "</table>\n",
              "</div>\n",
              "      <button class=\"colab-df-convert\" onclick=\"convertToInteractive('df-cb29f02c-3fce-4d5a-978d-365ff76e8bb1')\"\n",
              "              title=\"Convert this dataframe to an interactive table.\"\n",
              "              style=\"display:none;\">\n",
              "        \n",
              "  <svg xmlns=\"http://www.w3.org/2000/svg\" height=\"24px\"viewBox=\"0 0 24 24\"\n",
              "       width=\"24px\">\n",
              "    <path d=\"M0 0h24v24H0V0z\" fill=\"none\"/>\n",
              "    <path d=\"M18.56 5.44l.94 2.06.94-2.06 2.06-.94-2.06-.94-.94-2.06-.94 2.06-2.06.94zm-11 1L8.5 8.5l.94-2.06 2.06-.94-2.06-.94L8.5 2.5l-.94 2.06-2.06.94zm10 10l.94 2.06.94-2.06 2.06-.94-2.06-.94-.94-2.06-.94 2.06-2.06.94z\"/><path d=\"M17.41 7.96l-1.37-1.37c-.4-.4-.92-.59-1.43-.59-.52 0-1.04.2-1.43.59L10.3 9.45l-7.72 7.72c-.78.78-.78 2.05 0 2.83L4 21.41c.39.39.9.59 1.41.59.51 0 1.02-.2 1.41-.59l7.78-7.78 2.81-2.81c.8-.78.8-2.07 0-2.86zM5.41 20L4 18.59l7.72-7.72 1.47 1.35L5.41 20z\"/>\n",
              "  </svg>\n",
              "      </button>\n",
              "      \n",
              "  <style>\n",
              "    .colab-df-container {\n",
              "      display:flex;\n",
              "      flex-wrap:wrap;\n",
              "      gap: 12px;\n",
              "    }\n",
              "\n",
              "    .colab-df-convert {\n",
              "      background-color: #E8F0FE;\n",
              "      border: none;\n",
              "      border-radius: 50%;\n",
              "      cursor: pointer;\n",
              "      display: none;\n",
              "      fill: #1967D2;\n",
              "      height: 32px;\n",
              "      padding: 0 0 0 0;\n",
              "      width: 32px;\n",
              "    }\n",
              "\n",
              "    .colab-df-convert:hover {\n",
              "      background-color: #E2EBFA;\n",
              "      box-shadow: 0px 1px 2px rgba(60, 64, 67, 0.3), 0px 1px 3px 1px rgba(60, 64, 67, 0.15);\n",
              "      fill: #174EA6;\n",
              "    }\n",
              "\n",
              "    [theme=dark] .colab-df-convert {\n",
              "      background-color: #3B4455;\n",
              "      fill: #D2E3FC;\n",
              "    }\n",
              "\n",
              "    [theme=dark] .colab-df-convert:hover {\n",
              "      background-color: #434B5C;\n",
              "      box-shadow: 0px 1px 3px 1px rgba(0, 0, 0, 0.15);\n",
              "      filter: drop-shadow(0px 1px 2px rgba(0, 0, 0, 0.3));\n",
              "      fill: #FFFFFF;\n",
              "    }\n",
              "  </style>\n",
              "\n",
              "      <script>\n",
              "        const buttonEl =\n",
              "          document.querySelector('#df-cb29f02c-3fce-4d5a-978d-365ff76e8bb1 button.colab-df-convert');\n",
              "        buttonEl.style.display =\n",
              "          google.colab.kernel.accessAllowed ? 'block' : 'none';\n",
              "\n",
              "        async function convertToInteractive(key) {\n",
              "          const element = document.querySelector('#df-cb29f02c-3fce-4d5a-978d-365ff76e8bb1');\n",
              "          const dataTable =\n",
              "            await google.colab.kernel.invokeFunction('convertToInteractive',\n",
              "                                                     [key], {});\n",
              "          if (!dataTable) return;\n",
              "\n",
              "          const docLinkHtml = 'Like what you see? Visit the ' +\n",
              "            '<a target=\"_blank\" href=https://colab.research.google.com/notebooks/data_table.ipynb>data table notebook</a>'\n",
              "            + ' to learn more about interactive tables.';\n",
              "          element.innerHTML = '';\n",
              "          dataTable['output_type'] = 'display_data';\n",
              "          await google.colab.output.renderOutput(dataTable, element);\n",
              "          const docLink = document.createElement('div');\n",
              "          docLink.innerHTML = docLinkHtml;\n",
              "          element.appendChild(docLink);\n",
              "        }\n",
              "      </script>\n",
              "    </div>\n",
              "  </div>\n",
              "  "
            ]
          },
          "metadata": {},
          "execution_count": 3
        }
      ],
      "source": [
        "######## Your Code Here ########\n",
        "data = pd.read_csv('IMDB-Dataset.csv')\n",
        "data.head()"
      ]
    },
    {
      "cell_type": "markdown",
      "metadata": {
        "id": "370oVEkqe8mp"
      },
      "source": [
        "# Preprocess\n",
        "The first step of NLP is text preprocessing. Data cleaning is a very crucial step in any machine learning model, but more so for NLP. Without the cleaning process, the dataset is often a cluster of words that the computer doesn’t understand. Raw data over a properly or improperly formed sentence is not always desirable as it contains lot of unwanted components like null/html/links/url/emoji/stopwords etc. So in this step, this unwanted components are removed for better performance and accuracy."
      ]
    },
    {
      "cell_type": "code",
      "execution_count": 4,
      "metadata": {
        "id": "HWID_NYBk1oN"
      },
      "outputs": [],
      "source": [
        "######## Your Code Here ########\n",
        "def preprocessing(data):\n",
        "    lemmatizer = WordNetLemmatizer()\n",
        "    \n",
        "    # Lowercase\n",
        "    data = data.lower()\n",
        "\n",
        "    # Removing HTML tags\n",
        "    data = re.sub(r\"<.*?>\", \" \", data)\n",
        "\n",
        "    # Removing hyperlinks\n",
        "    data = re.sub(r\"https?://\\S+\", \"\", data)\n",
        "\n",
        "    # Removing numbers\n",
        "    data = re.sub(r\"\\b[0-9]+\\b\\s*\", \"\", data)\n",
        "\n",
        "    # Removing punctuations\n",
        "    data = re.sub(f\"[{re.escape(string.punctuation)}]\", \"\", data)\n",
        "\n",
        "    # Spliting sentence to words\n",
        "    words = data.split()\n",
        "\n",
        "    # Applying word lemmatization\n",
        "    words = [lemmatizer.lemmatize(word) for word in words]\n",
        "\n",
        "    # Removing stopwords\n",
        "    words = [word for word in words if word not in stopwords.words('english') and '_' not in word]\n",
        "\n",
        "    return words"
      ]
    },
    {
      "cell_type": "code",
      "source": [
        "data.review = data.review.apply(preprocessing)"
      ],
      "metadata": {
        "id": "RUlYEXbLqQcW"
      },
      "execution_count": 5,
      "outputs": []
    },
    {
      "cell_type": "markdown",
      "metadata": {
        "id": "qeB0RNlJ89_g"
      },
      "source": [
        "<font size=\"5\">Split the dataset</font>\n",
        "\n",
        "Data splitting, or commonly known as train-test split, is the partitioning of data into subsets for model training and evaluation separately. Since the test set is not specified beforehand, we have to split the dataset into train and test set in an ideal proportion. \n"
      ]
    },
    {
      "cell_type": "code",
      "execution_count": 6,
      "metadata": {
        "id": "hZT57Dblyf8Y"
      },
      "outputs": [],
      "source": [
        "######## Your Code Here ########\n",
        "train_data, test_data = tts(data , test_size=0.2)"
      ]
    },
    {
      "cell_type": "markdown",
      "metadata": {
        "id": "lnesufkigiPw"
      },
      "source": [
        "# Training\n",
        "Use Naive Beyes algorithm to train a Language Model"
      ]
    },
    {
      "cell_type": "code",
      "execution_count": 7,
      "metadata": {
        "id": "yf2dHGlKurSf"
      },
      "outputs": [],
      "source": [
        "######## Your Code Here ########\n",
        "def naive_bayes_training(data, classes):\n",
        "    probability = dict()\n",
        "    count = dict()\n",
        "\n",
        "    for c in classes:\n",
        "        # find out probability of each class\n",
        "        probability[c] = dict()\n",
        "        probability[c]['count'] = len(data[data['sentiment']==c])\n",
        "        probability[c]['probability'] = probability[c]['count']/len(data)\n",
        "\n",
        "        # prepare data for counting occurrence of each word\n",
        "        reviews = data[data['sentiment'] == c]['review'].to_list()\n",
        "        tokens = list()\n",
        "        for review in reviews:\n",
        "            tokens.extend(review)\n",
        "\n",
        "        # find out number of occurrence of each word in a class\n",
        "        count[c]= dict()\n",
        "        count[c]['token_count'] =collections.Counter(tokens)\n",
        "        count[c]['len'] = len(tokens)\n",
        "\n",
        "        # find out number of unique tokens in our dataset\n",
        "    v = len(set(list(count['positive']['token_count'].keys())+ list(count['negative']['token_count'].keys())))\n",
        "\n",
        "        # using naive bayes with add-1 smoothing rule for calculating the probability P(word|c)\n",
        "    for class_name in classes:\n",
        "        for word, c in count[class_name]['token_count'].items():\n",
        "            probability[class_name][word] = (c+1)/ (v + count[class_name]['len'])\n",
        "    \n",
        "    return probability, count, v "
      ]
    },
    {
      "cell_type": "code",
      "source": [
        "classes = ['positive', 'negative']\n",
        "model, count, v = naive_bayes_training(train_data, classes)"
      ],
      "metadata": {
        "id": "uVbA10vaqUe5"
      },
      "execution_count": 8,
      "outputs": []
    },
    {
      "cell_type": "markdown",
      "metadata": {
        "id": "fvSqU886lMDN"
      },
      "source": [
        "# Test\n",
        "Now you need to run inference on your test set"
      ]
    },
    {
      "cell_type": "code",
      "execution_count": 9,
      "metadata": {
        "id": "0Pr2rqDwlPpU"
      },
      "outputs": [],
      "source": [
        "######## Your Code Here ########\n",
        "def naive_bayes_testing(model,count, v, X_test, classes):\n",
        "    y_pred = list()\n",
        "    for sample in X_test:\n",
        "        p = dict()\n",
        "        for class_name in classes:\n",
        "            p[class_name] = np.log(model[class_name]['probability'])\n",
        "            for word in sample:\n",
        "                if word in model[class_name]:\n",
        "                    p[class_name] += np.log(model[class_name][word])\n",
        "                else:\n",
        "                    p[class_name] += np.log(1 / (v + count[class_name]['len']))\n",
        "\n",
        "        y_pred.append(max(p, key=p.get))\n",
        "    return y_pred"
      ]
    },
    {
      "cell_type": "code",
      "source": [
        "y_pred = naive_bayes_testing(model, count, v, test_data.review, classes)\n",
        "y_true = test_data.sentiment"
      ],
      "metadata": {
        "id": "jSf7779bqW_8"
      },
      "execution_count": 10,
      "outputs": []
    },
    {
      "cell_type": "markdown",
      "metadata": {
        "id": "dBS9HFA8iWlX"
      },
      "source": [
        "# Evaluation\n",
        "After training is finished, we need some metrics to evaluate the trained model on the test set. Here, you need to write code for utilizing the metrics bellow without the sklearn libraries!"
      ]
    },
    {
      "cell_type": "code",
      "source": [
        "######## Your Code Here ########\n",
        "TP = sum(real == pred and real == 'positive' for real, pred in zip(y_true,y_pred))\n",
        "TN = sum(real == pred and real == 'negative' for real, pred in zip(y_true,y_pred))\n",
        "FP = sum(real != pred and pred == 'positive' for real, pred in zip(y_true,y_pred))\n",
        "FN = sum(real != pred and pred == 'negative' for real, pred in zip(y_true,y_pred))"
      ],
      "metadata": {
        "id": "Ukf88JAGqbMU"
      },
      "execution_count": 11,
      "outputs": []
    },
    {
      "cell_type": "markdown",
      "metadata": {
        "id": "zIeLqza_llil"
      },
      "source": [
        "Precision"
      ]
    },
    {
      "cell_type": "code",
      "source": [
        "######## Your Code Here ########\n",
        "p = {'positive' : TP/(TP+FN), 'negative': TN/(TN+FP)}\n",
        "print(p)"
      ],
      "metadata": {
        "id": "Ht8MgI26qdf0",
        "colab": {
          "base_uri": "https://localhost:8080/"
        },
        "outputId": "2b42714c-d9a3-4fbe-de6d-11eaa4111a54"
      },
      "execution_count": 12,
      "outputs": [
        {
          "output_type": "stream",
          "name": "stdout",
          "text": [
            "{'positive': 0.8389780154486037, 'negative': 0.8881034134518279}\n"
          ]
        }
      ]
    },
    {
      "cell_type": "markdown",
      "metadata": {
        "id": "Go2HcCbTln_M"
      },
      "source": [
        "Recall"
      ]
    },
    {
      "cell_type": "code",
      "execution_count": 13,
      "metadata": {
        "id": "phSzQZ6JlsV1",
        "colab": {
          "base_uri": "https://localhost:8080/"
        },
        "outputId": "bf28016b-932f-4925-dc06-21b9f5c592b7"
      },
      "outputs": [
        {
          "output_type": "stream",
          "name": "stdout",
          "text": [
            "{'positive': 0.8843423799582464, 'negative': 0.8439539347408829}\n"
          ]
        }
      ],
      "source": [
        "######## Your Code Here ########\n",
        "r = {'positive' : TP/(TP+FP), 'negative': TN/(TN+FN)}\n",
        "print(r)"
      ]
    },
    {
      "cell_type": "markdown",
      "metadata": {
        "id": "jUM6OQNAlqks"
      },
      "source": [
        "F-measure"
      ]
    },
    {
      "cell_type": "code",
      "execution_count": 14,
      "metadata": {
        "id": "EnzV0G1tlsA8",
        "colab": {
          "base_uri": "https://localhost:8080/"
        },
        "outputId": "162a7b20-6c7e-4dc1-8324-db08aedd9b2f"
      },
      "outputs": [
        {
          "output_type": "stream",
          "name": "stdout",
          "text": [
            "{'positive': 0.8610631161703425, 'negative': 0.8654659974411966}\n"
          ]
        }
      ],
      "source": [
        "######## Your Code Here ########\n",
        "f= dict()\n",
        "f['positive'] = 2*p['positive']*r['positive']/ (p['positive'] + r['positive'])\n",
        "f['negative'] = 2*p['negative']*r['negative']/ (p['negative'] + r['negative'])\n",
        "print(f)"
      ]
    },
    {
      "cell_type": "markdown",
      "metadata": {
        "id": "bmo7-ZsEytmo"
      },
      "source": [
        "Confustion matrix"
      ]
    },
    {
      "cell_type": "code",
      "execution_count": 15,
      "metadata": {
        "id": "sVFCeotJy1DZ",
        "colab": {
          "base_uri": "https://localhost:8080/",
          "height": 501
        },
        "outputId": "c28d9929-1605-4442-f16c-644ac5c84e52"
      },
      "outputs": [
        {
          "output_type": "display_data",
          "data": {
            "text/plain": [
              "<Figure size 540x540 with 1 Axes>"
            ],
            "image/png": "[encoded data removed]"
          },
          "metadata": {
            "needs_background": "light"
          }
        }
      ],
      "source": [
        "######## Your Code Here ########\n",
        "import matplotlib.pyplot as plt\n",
        "confusion_matrix = [[TP,FN],[FP,TN]]\n",
        "fig, ax = plt.subplots(figsize=(7.5,7.5))\n",
        "ax.matshow(confusion_matrix)\n",
        "labels = ['positive', 'negative']\n",
        "for i in range(2):\n",
        "    for j in range(2):\n",
        "        ax.text(x=j, y=i,s=confusion_matrix[i][j], va='center', ha='center', size='xx-large')\n",
        "\n",
        "ax.set_xticklabels(['']+labels)\n",
        "ax.set_yticklabels(['']+labels)\n",
        "plt.xlabel('Predictions', fontsize=18)\n",
        "plt.ylabel('Actuals', fontsize=18)\n",
        "plt.title('Confusion Matrix', fontsize=18)\n",
        "plt.show()"
      ]
    },
    {
      "cell_type": "code",
      "source": [],
      "metadata": {
        "id": "72YCpxJnqjxb"
      },
      "execution_count": null,
      "outputs": []
    }
  ],
  "metadata": {
    "colab": {
      "provenance": []
    },
    "kernelspec": {
      "display_name": "Python 3",
      "name": "python3"
    },
    "language_info": {
      "name": "python"
    }
  },
  "nbformat": 4,
  "nbformat_minor": 0
}
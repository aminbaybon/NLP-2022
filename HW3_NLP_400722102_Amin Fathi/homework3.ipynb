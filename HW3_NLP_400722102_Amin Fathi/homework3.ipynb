{
  "cells": [
    {
      "cell_type": "markdown",
      "metadata": {
        "id": "PZSmCY-m890C"
      },
      "source": [
        "## Name & ID"
      ]
    },
    {
      "cell_type": "code",
      "execution_count": 1,
      "metadata": {
        "id": "0fc27Edy8juu"
      },
      "outputs": [],
      "source": [
        "student_name = \"Amin Fathi\"\n",
        "student_id =  400722102"
      ]
    },
    {
      "cell_type": "markdown",
      "metadata": {
        "id": "1hJjJIvi9D9m"
      },
      "source": [
        "## Import libraries "
      ]
    },
    {
      "cell_type": "code",
      "execution_count": 2,
      "metadata": {
        "id": "Kj_IHw3X9QkT"
      },
      "outputs": [],
      "source": [
        "import sys, re, math, random, os, string"
      ]
    },
    {
      "cell_type": "code",
      "source": [
        "!gdown --id 1vGaCn3uEV2hdCdmmq8eZK3WCGKC94aYV\n",
        "!gdown --id 1OR92iOvaa3sDUfpw8HSYnzZ1eYC8tF3-\n",
        "!gdown --id 1klJq7AAvgW5KTOCJa5fiXT2gJGIZFIPo"
      ],
      "metadata": {
        "colab": {
          "base_uri": "https://localhost:8080/"
        },
        "id": "7s737ewTzGky",
        "outputId": "5062d665-02ac-4913-bb1d-be323689007a"
      },
      "execution_count": 3,
      "outputs": [
        {
          "output_type": "stream",
          "name": "stdout",
          "text": [
            "/usr/local/lib/python3.7/dist-packages/gdown/cli.py:131: FutureWarning: Option `--id` was deprecated in version 4.3.1 and will be removed in 5.0. You don't need to pass it anymore to use a file ID.\n",
            "  category=FutureWarning,\n",
            "Downloading...\n",
            "From: https://drive.google.com/uc?id=1vGaCn3uEV2hdCdmmq8eZK3WCGKC94aYV\n",
            "To: /content/Shahnameh.txt\n",
            "100% 2.38M/2.38M [00:00<00:00, 104MB/s]\n",
            "/usr/local/lib/python3.7/dist-packages/gdown/cli.py:131: FutureWarning: Option `--id` was deprecated in version 4.3.1 and will be removed in 5.0. You don't need to pass it anymore to use a file ID.\n",
            "  category=FutureWarning,\n",
            "Downloading...\n",
            "From: https://drive.google.com/uc?id=1OR92iOvaa3sDUfpw8HSYnzZ1eYC8tF3-\n",
            "To: /content/Zahhak.txt\n",
            "100% 8.35k/8.35k [00:00<00:00, 6.70MB/s]\n",
            "/usr/local/lib/python3.7/dist-packages/gdown/cli.py:131: FutureWarning: Option `--id` was deprecated in version 4.3.1 and will be removed in 5.0. You don't need to pass it anymore to use a file ID.\n",
            "  category=FutureWarning,\n",
            "Downloading...\n",
            "From: https://drive.google.com/uc?id=1klJq7AAvgW5KTOCJa5fiXT2gJGIZFIPo\n",
            "To: /content/Akhavan.txt\n",
            "100% 3.23k/3.23k [00:00<00:00, 1.95MB/s]\n"
          ]
        }
      ]
    },
    {
      "cell_type": "markdown",
      "metadata": {
        "id": "iubaGuk29UNz"
      },
      "source": [
        "# Implementation section"
      ]
    },
    {
      "cell_type": "markdown",
      "metadata": {
        "id": "7GoZDydj-aow"
      },
      "source": [
        "## part a"
      ]
    },
    {
      "cell_type": "code",
      "execution_count": 4,
      "metadata": {
        "id": "xoPx75Qn9TLW"
      },
      "outputs": [],
      "source": [
        "def tokenize(text):\n",
        "    return re.findall(r\"[\\w]+|[\" + string.punctuation + \"]\", text)"
      ]
    },
    {
      "cell_type": "markdown",
      "metadata": {
        "id": "tgs6c2PE-dRi"
      },
      "source": [
        "## part b"
      ]
    },
    {
      "cell_type": "code",
      "execution_count": 5,
      "metadata": {
        "id": "eHZqhCQ3-hPN"
      },
      "outputs": [],
      "source": [
        "def ngrams(n, tokens):\n",
        "    for i in range(n):\n",
        "        tokens.insert(0, \"<START>\")\n",
        "    tokens.append(\"<END>\")\n",
        "    ngrams = []\n",
        "    for i in range(n, len(tokens)):\n",
        "        ngrams.append((tuple(tokens[i - n + 1 : i]), tokens[i]))\n",
        "    return ngrams"
      ]
    },
    {
      "cell_type": "markdown",
      "metadata": {
        "id": "JQd1vhOR-gXD"
      },
      "source": [
        "## NgramModel class"
      ]
    },
    {
      "cell_type": "code",
      "execution_count": 6,
      "metadata": {
        "id": "-S0Mkxzx-sYc"
      },
      "outputs": [],
      "source": [
        "class NgramModel(object):\n",
        "\n",
        "    def __init__(self, n):\n",
        "        self.n = n\n",
        "        self.grams = []\n",
        "\n",
        "    def update(self, sentence):\n",
        "        tokens = tokenize(sentence)\n",
        "        self.grams += ngrams(self.n, tokens)\n",
        "\n",
        "    def prob(self, context, token):\n",
        "        ctx_count = 0\n",
        "        match_count = 0\n",
        "        for i, v in enumerate(self.grams):\n",
        "            if v[0] == context:\n",
        "                ctx_count = ctx_count + 1\n",
        "                if v[1] == str(token):\n",
        "                    match_count = match_count + 1\n",
        "        # protect against divide by 0 case\n",
        "        if ctx_count == 0:\n",
        "            return 0\n",
        "        return float(match_count) / float(ctx_count)\n",
        "\n",
        "    def random_token(self, context):\n",
        "        T = [\n",
        "            self.grams[i][1]\n",
        "            for i in range(len(self.grams))\n",
        "            if self.grams[i][0] == context\n",
        "        ]\n",
        "        T.sort()\n",
        "        r = random.random()\n",
        "        # index = int(math.ceil(r*(len(T)-1)))\n",
        "        if len(T) != 0:\n",
        "            index = int(r * len(T))\n",
        "            if index > len(T) - 1:\n",
        "                index = len(T) - 1\n",
        "            return T[index]\n",
        "        else:\n",
        "            return \" \"\n",
        "\n",
        "    def random_text(self, token_count):\n",
        "        context = []\n",
        "        for i in range(self.n - 1):\n",
        "            context.append(\"<START>\")\n",
        "        tokens = []\n",
        "        for i in range(token_count):\n",
        "            toke = self.random_token(tuple(context))\n",
        "            tokens.append(toke)\n",
        "            if self.n > 1:\n",
        "                if toke != \"<END>\":\n",
        "                    context.append(toke)\n",
        "                    context = context[1:]\n",
        "                else:\n",
        "                    context = []\n",
        "                    for x in range(self.n - 1):\n",
        "                        context.append(\"<START>\")\n",
        "        sentence = \" \".join(word for word in tokens)\n",
        "        return sentence\n",
        "\n",
        "    def perplexity(self, sentence):\n",
        "        perplexity = 0.0\n",
        "        tokens = tokenize(sentence)\n",
        "        test_ngrams = ngrams(self.n, tokens)\n",
        "        for i in range(len(test_ngrams)):\n",
        "            perplexity += math.log(\n",
        "                1.0 / self.prob(test_ngrams[i][0], test_ngrams[i][1])\n",
        "            )\n",
        "        perplexity = math.exp(perplexity)\n",
        "        return perplexity ** (1.0 / len(test_ngrams))\n",
        "\n"
      ]
    },
    {
      "cell_type": "markdown",
      "metadata": {
        "id": "nAo04nZ1-sl3"
      },
      "source": [
        "## part f"
      ]
    },
    {
      "cell_type": "code",
      "execution_count": 7,
      "metadata": {
        "id": "LyaVj895-s3q"
      },
      "outputs": [],
      "source": [
        "def create_ngram_model(n, path):\n",
        "    f = open(path, \"r\")\n",
        "    doc = NgramModel(n)\n",
        "    for line in f:\n",
        "        doc.update(line)\n",
        "    return doc"
      ]
    },
    {
      "cell_type": "markdown",
      "metadata": {
        "id": "4xhw4AiX-RIi"
      },
      "source": [
        "# Check section"
      ]
    },
    {
      "cell_type": "markdown",
      "metadata": {
        "id": "II8iwx9K_Rii"
      },
      "source": [
        "## part a"
      ]
    },
    {
      "cell_type": "code",
      "execution_count": 8,
      "metadata": {
        "id": "PdJCfUxsVBaq",
        "colab": {
          "base_uri": "https://localhost:8080/"
        },
        "outputId": "1ce41b6a-ee9d-456c-df95-07118a2a72f3"
      },
      "outputs": [
        {
          "output_type": "execute_result",
          "data": {
            "text/plain": [
              "['منم', 'کاوه', 'دادخواه', 'یکی', 'بی', 'زیان', 'مرد', 'آهنگرم']"
            ]
          },
          "metadata": {},
          "execution_count": 8
        }
      ],
      "source": [
        "tokenize(\"منم کاوه دادخواه یکی بی‌زیان مرد آهنگرم\")"
      ]
    },
    {
      "cell_type": "code",
      "execution_count": 9,
      "metadata": {
        "id": "SPtM8HJWKJHB",
        "colab": {
          "base_uri": "https://localhost:8080/"
        },
        "outputId": "4b337570-8de1-4507-f3c3-ddde8fb45dc2"
      },
      "outputs": [
        {
          "output_type": "execute_result",
          "data": {
            "text/plain": [
              "['I', 'm', 'Kaveh', ',', 'and', 'a', 'blacksmith', ',', 'sire']"
            ]
          },
          "metadata": {},
          "execution_count": 9
        }
      ],
      "source": [
        "tokenize(\"I’m Kaveh, and a blacksmith, sire\")"
      ]
    },
    {
      "cell_type": "markdown",
      "metadata": {
        "id": "UrfGg1I2_VsP"
      },
      "source": [
        "## part b"
      ]
    },
    {
      "cell_type": "code",
      "execution_count": 10,
      "metadata": {
        "id": "022Yi5qDVE7I",
        "colab": {
          "base_uri": "https://localhost:8080/"
        },
        "outputId": "e2b5d0c0-27d0-4f23-979b-90e87edd9ab0"
      },
      "outputs": [
        {
          "output_type": "execute_result",
          "data": {
            "text/plain": [
              "[((), 'کاوه'), ((), 'اهنگر'), ((), 'دادخواه'), ((), '<END>')]"
            ]
          },
          "metadata": {},
          "execution_count": 10
        }
      ],
      "source": [
        "ngrams(1, [\"کاوه\", \"اهنگر\", \"دادخواه\"])"
      ]
    },
    {
      "cell_type": "code",
      "execution_count": 11,
      "metadata": {
        "id": "xbY1-2GcVVOF",
        "colab": {
          "base_uri": "https://localhost:8080/"
        },
        "outputId": "24b44f6d-c03d-493c-c6e8-f2908073ae97"
      },
      "outputs": [
        {
          "output_type": "execute_result",
          "data": {
            "text/plain": [
              "[(('<START>',), 'کاوه'),\n",
              " (('کاوه',), 'اهنگر'),\n",
              " (('اهنگر',), 'دادخواه'),\n",
              " (('دادخواه',), '<END>')]"
            ]
          },
          "metadata": {},
          "execution_count": 11
        }
      ],
      "source": [
        "ngrams(2, [\"کاوه\", \"اهنگر\", \"دادخواه\"])"
      ]
    },
    {
      "cell_type": "code",
      "execution_count": 12,
      "metadata": {
        "id": "C2cn8QdOVuOA",
        "colab": {
          "base_uri": "https://localhost:8080/"
        },
        "outputId": "aa4028cc-c7da-49eb-d0f9-e77f01553557"
      },
      "outputs": [
        {
          "output_type": "execute_result",
          "data": {
            "text/plain": [
              "[(('<START>', '<START>'), 'کاوه'),\n",
              " (('<START>', 'کاوه'), 'اهنگر'),\n",
              " (('کاوه', 'اهنگر'), 'دادخواه'),\n",
              " (('اهنگر', 'دادخواه'), '<END>')]"
            ]
          },
          "metadata": {},
          "execution_count": 12
        }
      ],
      "source": [
        "ngrams(3, [\"کاوه\", \"اهنگر\", \"دادخواه\"])"
      ]
    },
    {
      "cell_type": "markdown",
      "metadata": {
        "id": "2_mIgLXb_ZCg"
      },
      "source": [
        "## part c"
      ]
    },
    {
      "cell_type": "code",
      "execution_count": 13,
      "metadata": {
        "id": "yrpwYkUNVzqZ",
        "colab": {
          "base_uri": "https://localhost:8080/"
        },
        "outputId": "a87a7620-0213-4e54-a9b6-bc64050488de"
      },
      "outputs": [
        {
          "output_type": "stream",
          "name": "stdout",
          "text": [
            "0.3\n",
            "0.1\n",
            "0.2\n"
          ]
        }
      ],
      "source": [
        "m = NgramModel(1)\n",
        "m.update(\"کاوه آهنگر ضحاک ستمگر\")\n",
        "m.update(\"کاوه آهنگر کاوه آهنگر\")\n",
        "print(m.prob((), \"کاوه\"))\n",
        "print(m.prob((), \"ضحاک\"))\n",
        "print(m.prob((), \"<END>\"))"
      ]
    },
    {
      "cell_type": "code",
      "execution_count": 14,
      "metadata": {
        "id": "KOJ4d3oDWDG9",
        "colab": {
          "base_uri": "https://localhost:8080/"
        },
        "outputId": "178bceac-5673-46a5-9026-6841a0616fa6"
      },
      "outputs": [
        {
          "output_type": "stream",
          "name": "stdout",
          "text": [
            "1.0\n",
            "0.3333333333333333\n",
            "0.0\n"
          ]
        }
      ],
      "source": [
        "m = NgramModel(2)\n",
        "m.update(\"کاوه آهنگر ضحاک ستمگر\")\n",
        "m.update(\"کاوه آهنگر کاوه آهنگر\")\n",
        "print(m.prob((\"<START>\",), \"کاوه\"))\n",
        "print(m.prob((\"آهنگر\",), \"ضحاک\"))\n",
        "print(m.prob((\"کاوه\",), \"ماردوش\"))"
      ]
    },
    {
      "cell_type": "markdown",
      "metadata": {
        "id": "0m4p5AQw_a5K"
      },
      "source": [
        "## part d"
      ]
    },
    {
      "cell_type": "code",
      "execution_count": 15,
      "metadata": {
        "id": "Hi-h7NwcXdf2",
        "colab": {
          "base_uri": "https://localhost:8080/"
        },
        "outputId": "06abbef5-8d43-4d83-ce9e-dc012e8227ff"
      },
      "outputs": [
        {
          "output_type": "execute_result",
          "data": {
            "text/plain": [
              "['<END>', 'کاوه', 'کاوه', 'آهنگر', 'آهنگر', 'آهنگر', 'ضحاک', 'کاوه']"
            ]
          },
          "metadata": {},
          "execution_count": 15
        }
      ],
      "source": [
        "m = NgramModel(1)\n",
        "m.update(\"کاوه آهنگر ضحاک ستمگر\")\n",
        "m.update(\"کاوه آهنگر کاوه آهنگر\")\n",
        "random.seed(1)\n",
        "[m.random_token(()) for i in range(8)]"
      ]
    },
    {
      "cell_type": "code",
      "execution_count": 16,
      "metadata": {
        "id": "qeq9hA3DYCDr",
        "colab": {
          "base_uri": "https://localhost:8080/"
        },
        "outputId": "fc794b07-b20f-4465-a0c2-a14c706b3152"
      },
      "outputs": [
        {
          "output_type": "stream",
          "name": "stdout",
          "text": [
            "['کاوه', 'کاوه', 'کاوه', 'کاوه', 'کاوه', 'کاوه']\n",
            "['کاوه', '<END>', 'ضحاک', 'ضحاک', 'ضحاک', '<END>']\n"
          ]
        }
      ],
      "source": [
        "m = NgramModel(2)\n",
        "m.update(\"کاوه آهنگر ضحاک ستمگر\")\n",
        "m.update(\"کاوه آهنگر کاوه آهنگر\")\n",
        "random.seed(2)\n",
        "print([m.random_token((\"<START>\",)) for i in range(6)])\n",
        "print([m.random_token((\"آهنگر\",)) for i in range(6)])"
      ]
    },
    {
      "cell_type": "markdown",
      "metadata": {
        "id": "HKu0rMZG_d2q"
      },
      "source": [
        "## part e"
      ]
    },
    {
      "cell_type": "code",
      "execution_count": 17,
      "metadata": {
        "id": "fmvyqyyEY06R",
        "colab": {
          "base_uri": "https://localhost:8080/",
          "height": 36
        },
        "outputId": "e620dac8-2ce9-488e-bb33-ce202918a277"
      },
      "outputs": [
        {
          "output_type": "execute_result",
          "data": {
            "text/plain": [
              "'<END> کاوه کاوه آهنگر آهنگر آهنگر ضحاک کاوه <END> <END> کاوه آهنگر کاوه <END> آهنگر کاوه'"
            ],
            "application/vnd.google.colaboratory.intrinsic+json": {
              "type": "string"
            }
          },
          "metadata": {},
          "execution_count": 17
        }
      ],
      "source": [
        "m = NgramModel(1)\n",
        "m.update(\"کاوه آهنگر ضحاک ستمگر\")\n",
        "m.update(\"کاوه آهنگر کاوه آهنگر\")\n",
        "random.seed(1)\n",
        "m.random_text(16)"
      ]
    },
    {
      "cell_type": "code",
      "execution_count": 18,
      "metadata": {
        "id": "csZXsGzUZTdR",
        "colab": {
          "base_uri": "https://localhost:8080/",
          "height": 36
        },
        "outputId": "b35e7fca-baf6-4bd7-dfdd-2d8881f25f9e"
      },
      "outputs": [
        {
          "output_type": "execute_result",
          "data": {
            "text/plain": [
              "'کاوه آهنگر <END> کاوه آهنگر کاوه آهنگر <END> کاوه آهنگر ضحاک ستمگر <END> کاوه آهنگر کاوه'"
            ],
            "application/vnd.google.colaboratory.intrinsic+json": {
              "type": "string"
            }
          },
          "metadata": {},
          "execution_count": 18
        }
      ],
      "source": [
        "m = NgramModel(2)\n",
        "m.update(\"کاوه آهنگر ضحاک ستمگر\")\n",
        "m.update(\"کاوه آهنگر کاوه آهنگر\")\n",
        "random.seed(2)\n",
        "m.random_text(16)"
      ]
    },
    {
      "cell_type": "markdown",
      "metadata": {
        "id": "wrDUyk5p_h1E"
      },
      "source": [
        "## part f"
      ]
    },
    {
      "cell_type": "code",
      "execution_count": 19,
      "metadata": {
        "id": "cgaHPLJQJ-Mp",
        "colab": {
          "base_uri": "https://localhost:8080/",
          "height": 36
        },
        "outputId": "f4a01087-fedb-4eb4-c113-964502b85953"
      },
      "outputs": [
        {
          "output_type": "execute_result",
          "data": {
            "text/plain": [
              "'when him don These , , fame and be to he his King , and <END>'"
            ],
            "application/vnd.google.colaboratory.intrinsic+json": {
              "type": "string"
            }
          },
          "metadata": {},
          "execution_count": 19
        }
      ],
      "source": [
        "# No random seeds, so your results may vary\n",
        "m = create_ngram_model(1, \"Shahnameh.txt\") \n",
        "m.random_text(16)"
      ]
    },
    {
      "cell_type": "code",
      "execution_count": 20,
      "metadata": {
        "id": "ZwdYGr4PJ-QL",
        "colab": {
          "base_uri": "https://localhost:8080/",
          "height": 36
        },
        "outputId": "ed822a97-0ae5-4df2-d0df-a8e742751d5f"
      },
      "outputs": [
        {
          "output_type": "execute_result",
          "data": {
            "text/plain": [
              "'خروشید یکی شاه <END> چو هر مغز کاوه نبرد نیکی بباید گونه گرد <END> ناشکبیم لرزان'"
            ],
            "application/vnd.google.colaboratory.intrinsic+json": {
              "type": "string"
            }
          },
          "metadata": {},
          "execution_count": 20
        }
      ],
      "source": [
        "# No random seeds, so your results may vary\n",
        "m = create_ngram_model(1, \"Zahhak.txt\") \n",
        "m.random_text(16)"
      ]
    },
    {
      "cell_type": "code",
      "execution_count": 21,
      "metadata": {
        "id": "QiCUMmAlZdgN",
        "colab": {
          "base_uri": "https://localhost:8080/",
          "height": 36
        },
        "outputId": "f8d67b64-b8e0-40ca-b8b9-3339192ebfae"
      },
      "outputs": [
        {
          "output_type": "execute_result",
          "data": {
            "text/plain": [
              "'حمله دو خون کلبه دایم و بتوان پایش چه حمله رفتن کلبه ما خورده آلوده باد'"
            ],
            "application/vnd.google.colaboratory.intrinsic+json": {
              "type": "string"
            }
          },
          "metadata": {},
          "execution_count": 21
        }
      ],
      "source": [
        "# No random seeds, so your results may vary\n",
        "m = create_ngram_model(1, \"Akhavan.txt\") \n",
        "m.random_text(16)"
      ]
    },
    {
      "cell_type": "code",
      "execution_count": 22,
      "metadata": {
        "id": "d1PsU5r8J78v",
        "colab": {
          "base_uri": "https://localhost:8080/",
          "height": 36
        },
        "outputId": "8506e5e7-cd8d-44dc-903a-99be4094eb17"
      },
      "outputs": [
        {
          "output_type": "execute_result",
          "data": {
            "text/plain": [
              "'it . Tus . Virtue is worthy of is my murdered by day <END> bad that'"
            ],
            "application/vnd.google.colaboratory.intrinsic+json": {
              "type": "string"
            }
          },
          "metadata": {},
          "execution_count": 22
        }
      ],
      "source": [
        "# No random seeds, so your results may vary\n",
        "m = create_ngram_model(2, \"Shahnameh.txt\") \n",
        "m.random_text(16)"
      ]
    },
    {
      "cell_type": "code",
      "execution_count": 23,
      "metadata": {
        "id": "HfwsWjcbJ8AB",
        "colab": {
          "base_uri": "https://localhost:8080/",
          "height": 36
        },
        "outputId": "e7989d50-2463-4e44-f71f-bf69e2e8b8f7"
      },
      "outputs": [
        {
          "output_type": "execute_result",
          "data": {
            "text/plain": [
              "'به خوبی بجستند پیوند او <END> سراندر کشید و خرد <END> پسند آمدش کان سخن جز'"
            ],
            "application/vnd.google.colaboratory.intrinsic+json": {
              "type": "string"
            }
          },
          "metadata": {},
          "execution_count": 23
        }
      ],
      "source": [
        "# No random seeds, so your results may vary\n",
        "m = create_ngram_model(2, \"Zahhak.txt\") \n",
        "m.random_text(16)"
      ]
    },
    {
      "cell_type": "code",
      "execution_count": 24,
      "metadata": {
        "id": "ypjgHiUscV7f",
        "colab": {
          "base_uri": "https://localhost:8080/",
          "height": 36
        },
        "outputId": "0177a0d8-8d63-446e-e9dd-4c2c3c101826"
      },
      "outputs": [
        {
          "output_type": "execute_result",
          "data": {
            "text/plain": [
              "'خروشد باد باران است <END> ز ابری ساکت و کولاک رعب انگیز و بر پرده های'"
            ],
            "application/vnd.google.colaboratory.intrinsic+json": {
              "type": "string"
            }
          },
          "metadata": {},
          "execution_count": 24
        }
      ],
      "source": [
        "# No random seeds, so your results may vary\n",
        "m = create_ngram_model(2, \"Akhavan.txt\") \n",
        "m.random_text(16)"
      ]
    },
    {
      "cell_type": "code",
      "execution_count": 25,
      "metadata": {
        "id": "xpI_z6zBJ8fs",
        "colab": {
          "base_uri": "https://localhost:8080/",
          "height": 36
        },
        "outputId": "6fb4e3b6-baf6-4b02-eccf-95b5ffd7907d"
      },
      "outputs": [
        {
          "output_type": "execute_result",
          "data": {
            "text/plain": [
              "'<END> in his <END> you ; <END> PIRUZ : the area around Amol and marched toward'"
            ],
            "application/vnd.google.colaboratory.intrinsic+json": {
              "type": "string"
            }
          },
          "metadata": {},
          "execution_count": 25
        }
      ],
      "source": [
        "# No random seeds, so your results may vary\n",
        "m = create_ngram_model(3, \"Shahnameh.txt\") \n",
        "m.random_text(16)"
      ]
    },
    {
      "cell_type": "code",
      "execution_count": 26,
      "metadata": {
        "id": "Hk6YE45zJ8jM",
        "colab": {
          "base_uri": "https://localhost:8080/",
          "height": 36
        },
        "outputId": "ba003b52-2bd7-46f8-c36c-0739d1225f71"
      },
      "outputs": [
        {
          "output_type": "execute_result",
          "data": {
            "text/plain": [
              "'چو شد ساخته کار گرز گران <END> <END> <END> <END> پسند آمدش کار پولادگر <END> <END>'"
            ],
            "application/vnd.google.colaboratory.intrinsic+json": {
              "type": "string"
            }
          },
          "metadata": {},
          "execution_count": 26
        }
      ],
      "source": [
        "# No random seeds, so your results may vary\n",
        "m = create_ngram_model(3, \"Zahhak.txt\") \n",
        "m.random_text(16)"
      ]
    },
    {
      "cell_type": "code",
      "execution_count": 27,
      "metadata": {
        "id": "80q30x52ejVp",
        "colab": {
          "base_uri": "https://localhost:8080/",
          "height": 36
        },
        "outputId": "851dce92-21ce-4c87-c0be-99483c8e4f2b"
      },
      "outputs": [
        {
          "output_type": "execute_result",
          "data": {
            "text/plain": [
              "'که این خون خون فرزندان صحراست <END> <END> <END> بلای نیستی سرمای پر سوز <END> گر'"
            ],
            "application/vnd.google.colaboratory.intrinsic+json": {
              "type": "string"
            }
          },
          "metadata": {},
          "execution_count": 27
        }
      ],
      "source": [
        "# No random seeds, so your results may vary\n",
        "m = create_ngram_model(3, \"Akhavan.txt\") \n",
        "m.random_text(16)"
      ]
    },
    {
      "cell_type": "code",
      "execution_count": 28,
      "metadata": {
        "id": "n74i8f7HJ_xZ",
        "colab": {
          "base_uri": "https://localhost:8080/",
          "height": 36
        },
        "outputId": "47a15fac-4378-4c5c-c9fb-397bf32c0b26"
      },
      "outputs": [
        {
          "output_type": "execute_result",
          "data": {
            "text/plain": [
              "'And let my heart shun sin , so that not one of the <END> lovely as'"
            ],
            "application/vnd.google.colaboratory.intrinsic+json": {
              "type": "string"
            }
          },
          "metadata": {},
          "execution_count": 28
        }
      ],
      "source": [
        "# No random seeds, so your results may vary\n",
        "m = create_ngram_model(4, \"Shahnameh.txt\") \n",
        "m.random_text(16)"
      ]
    },
    {
      "cell_type": "code",
      "execution_count": 29,
      "metadata": {
        "id": "n-x8xdDhJ_1H",
        "colab": {
          "base_uri": "https://localhost:8080/",
          "height": 36
        },
        "outputId": "db0f71ad-9196-4ad2-894f-a900d3202fb0"
      },
      "outputs": [
        {
          "output_type": "execute_result",
          "data": {
            "text/plain": [
              "'<END> <END> <END> <END> بباید بدین بود همداستان <END> کسی کاو هوای فریدون کند <END> <END>'"
            ],
            "application/vnd.google.colaboratory.intrinsic+json": {
              "type": "string"
            }
          },
          "metadata": {},
          "execution_count": 29
        }
      ],
      "source": [
        "# No random seeds, so your results may vary\n",
        "m = create_ngram_model(4, \"Zahhak.txt\") \n",
        "m.random_text(16)"
      ]
    },
    {
      "cell_type": "code",
      "execution_count": 30,
      "metadata": {
        "id": "q66jTUwhewfP",
        "colab": {
          "base_uri": "https://localhost:8080/",
          "height": 36
        },
        "outputId": "7c1b2655-bc52-4134-ff19-1325514df724"
      },
      "outputs": [
        {
          "output_type": "execute_result",
          "data": {
            "text/plain": [
              "'زمین سرد است و برف آلوده و تر <END> دو دشمن در کمین ماست دایم <END>'"
            ],
            "application/vnd.google.colaboratory.intrinsic+json": {
              "type": "string"
            }
          },
          "metadata": {},
          "execution_count": 30
        }
      ],
      "source": [
        "# No random seeds, so your results may vary\n",
        "m = create_ngram_model(4, \"Akhavan.txt\") \n",
        "m.random_text(16)"
      ]
    },
    {
      "cell_type": "markdown",
      "metadata": {
        "id": "SYpoN-xc_ngf"
      },
      "source": [
        "## part g"
      ]
    },
    {
      "cell_type": "code",
      "execution_count": 31,
      "metadata": {
        "id": "nYiioKZgfavy",
        "colab": {
          "base_uri": "https://localhost:8080/"
        },
        "outputId": "d4a65d1e-7b6e-40e1-832c-a870f1abea2c"
      },
      "outputs": [
        {
          "output_type": "execute_result",
          "data": {
            "text/plain": [
              "3.815714141844439"
            ]
          },
          "metadata": {},
          "execution_count": 31
        }
      ],
      "source": [
        "m = NgramModel(1)\n",
        "m.update(\"کاوه آهنگر ضحاک ستمگر\")\n",
        "m.update(\"کاوه آهنگر کاوه آهنگر\")\n",
        "m.perplexity(\"کاوه آهنگر\")"
      ]
    },
    {
      "cell_type": "code",
      "execution_count": 32,
      "metadata": {
        "id": "i2fQqAaQfxYb",
        "colab": {
          "base_uri": "https://localhost:8080/"
        },
        "outputId": "fa50dee0-97e4-4fd4-8488-d0b88529511d"
      },
      "outputs": [
        {
          "output_type": "execute_result",
          "data": {
            "text/plain": [
              "1.4422495703074085"
            ]
          },
          "metadata": {},
          "execution_count": 32
        }
      ],
      "source": [
        "m = NgramModel(2)\n",
        "m.update(\"کاوه آهنگر ضحاک ستمگر\")\n",
        "m.update(\"کاوه آهنگر کاوه آهنگر\")\n",
        "m.perplexity(\"کاوه آهنگر\")"
      ]
    },
    {
      "cell_type": "code",
      "source": [],
      "metadata": {
        "id": "eP8otw7imgdi"
      },
      "execution_count": null,
      "outputs": []
    }
  ],
  "metadata": {
    "colab": {
      "provenance": []
    },
    "kernelspec": {
      "display_name": "Python 3",
      "language": "python",
      "name": "python3"
    },
    "language_info": {
      "codemirror_mode": {
        "name": "ipython",
        "version": 3
      },
      "file_extension": ".py",
      "mimetype": "text/x-python",
      "name": "python",
      "nbconvert_exporter": "python",
      "pygments_lexer": "ipython3",
      "version": "3.8.3"
    },
    "vscode": {
      "interpreter": {
        "hash": "9650cb4e16cdd4a8e8e2d128bf38d875813998db22a3c986335f89e0cb4d7bb2"
      }
    }
  },
  "nbformat": 4,
  "nbformat_minor": 0
}